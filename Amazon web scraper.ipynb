{
 "cells": [
  {
   "cell_type": "code",
   "execution_count": 1,
   "id": "9eb6a500-5340-440c-9e7a-ef34c475ef13",
   "metadata": {},
   "outputs": [],
   "source": [
    "from bs4 import BeautifulSoup\n",
    "import requests\n",
    "import time\n",
    "import datetime\n",
    "\n",
    "import smtplib"
   ]
  },
  {
   "cell_type": "code",
   "execution_count": 46,
   "id": "1f7aefe3-3240-4df6-8d56-4880c1530866",
   "metadata": {},
   "outputs": [
    {
     "name": "stdout",
     "output_type": "stream",
     "text": [
      "\n",
      "                    Got Data Funny Business Data Analyst T-Shirt\n",
      "                   \n",
      "$15.99\n"
     ]
    }
   ],
   "source": [
    "URL = 'https://www.amazon.com/Funny-Data-Systems-Business-Analyst/dp/B07FNW9FGJ/ref=sr_1_3?dchild=1&keywords=data%2Banalyst%2Btshirt&qid=1626655184&sr=8-3&customId=B0752XJYNL&th=1'\n",
    "\n",
    "headers =  {\"User-Agent\": \"Mozilla/5.0 (Windows NT 10.0; Win64; x64) AppleWebKit/537.36 (KHTML, like Gecko) Chrome/136.0.0.0 Safari/537.36\",  \"Accept-Encoding\":\"gzip, deflate\", \"Accept\":\"text/html,application/xhtml+xml,application/xml;q=0.9,*/*;q=0.8\", \"DNT\":\"1\",\"Connection\":\"close\", \"Upgrade-Insecure-Requests\":\"1\"}\n",
    "\n",
    "page = requests.get(URL, headers=headers)\n",
    "\n",
    "soup1 = BeautifulSoup(page.content, \"html.parser\")\n",
    "\n",
    "soup2 = BeautifulSoup(soup1.prettify(), \"html.parser\")\n",
    "\n",
    "title = soup2.find(id='productTitle').get_text()\n",
    "\n",
    "price_symbol = soup2.find(class_='a-price-symbol').get_text(strip=True)\n",
    "price_whole = soup2.find(class_='a-price-whole').get_text(strip=True)\n",
    "price_fraction = soup2.find(class_='a-price-fraction').get_text(strip=True)\n",
    "price = f'{price_symbol}{price_whole}{price_fraction}'\n",
    "\n",
    "\n",
    "    \n",
    "print(title)\n",
    "print(price)\n"
   ]
  },
  {
   "cell_type": "code",
   "execution_count": 48,
   "id": "e1a204fa-7dfa-44b6-a651-62dbb71c02ed",
   "metadata": {},
   "outputs": [
    {
     "name": "stdout",
     "output_type": "stream",
     "text": [
      "Got Data Funny Business Data Analyst T-Shirt\n",
      "15.99\n"
     ]
    }
   ],
   "source": [
    "price = price.strip()[1:]\n",
    "title = title.strip()\n",
    "\n",
    "print(title)\n",
    "print(price)"
   ]
  },
  {
   "cell_type": "code",
   "execution_count": 50,
   "id": "faf0f617-79ed-4b2e-8282-95d012772fb2",
   "metadata": {},
   "outputs": [
    {
     "name": "stdout",
     "output_type": "stream",
     "text": [
      "2025-05-31\n"
     ]
    }
   ],
   "source": [
    "import datetime\n",
    "\n",
    "today = datetime.date.today()\n",
    "\n",
    "print(today)"
   ]
  },
  {
   "cell_type": "code",
   "execution_count": 54,
   "id": "23293388-16d7-4d02-9f21-d7249400ee93",
   "metadata": {},
   "outputs": [],
   "source": [
    "import csv \n",
    "\n",
    "header = ['Title', 'Price', 'Date']\n",
    "data = [title, price, today]\n",
    "\n",
    "\n",
    "with open('AmazonWebScraperDataset.csv', 'w', newline='', encoding='UTF8') as f:\n",
    "    writer = csv.writer(f)\n",
    "    writer.writerow(header)\n",
    "    writer.writerow(data)"
   ]
  },
  {
   "cell_type": "code",
   "execution_count": 84,
   "id": "94921d04-fc88-4a8e-b919-830fbe6f7772",
   "metadata": {},
   "outputs": [
    {
     "name": "stdout",
     "output_type": "stream",
     "text": [
      "                                          Title  Price        Date\n",
      "0  Got Data Funny Business Data Analyst T-Shirt  15.99  2025-05-31\n",
      "1  Got Data Funny Business Data Analyst T-Shirt  15.99  2025-05-31\n",
      "2  Got Data Funny Business Data Analyst T-Shirt  15.99  2025-05-31\n",
      "3  Got Data Funny Business Data Analyst T-Shirt  15.99  2025-05-31\n",
      "4  Got Data Funny Business Data Analyst T-Shirt  15.99  2025-05-31\n"
     ]
    }
   ],
   "source": [
    "import pandas as pd\n",
    "\n",
    "df = pd.read_csv(r'C:\\Users\\Patrick.Ukutegbe\\AmazonWebScraperDataset.csv')\n",
    "\n",
    "print(df)"
   ]
  },
  {
   "cell_type": "code",
   "execution_count": 82,
   "id": "ab15bbaa-6d86-4398-a25a-a07b23d0bc7f",
   "metadata": {},
   "outputs": [],
   "source": [
    "with open('AmazonWebScraperDataset.csv', 'a+', newline='', encoding='UTF8') as f:\n",
    "    writer = csv.writer(f)\n",
    "    writer.writerow(data)"
   ]
  },
  {
   "cell_type": "code",
   "execution_count": 94,
   "id": "e57a26ca-3de0-494d-8785-2d51816960bc",
   "metadata": {},
   "outputs": [],
   "source": [
    "import requests\n",
    "from bs4 import BeautifulSoup\n",
    "import datetime\n",
    "import csv\n",
    "\n",
    "def check_price():\n",
    "    URL = 'https://www.amazon.com/Funny-Data-Systems-Business-Analyst/dp/B07FNW9FGJ'\n",
    "    headers = {\n",
    "        \"User-Agent\": \"Mozilla/5.0 (Windows NT 10.0; Win64; x64) AppleWebKit/537.36 (KHTML, like Gecko) Chrome/136.0.0.0 Safari/537.36\",\n",
    "        \"Accept-Encoding\": \"gzip, deflate\",\n",
    "        \"Accept\": \"text/html,application/xhtml+xml,application/xml;q=0.9,*/*;q=0.8\",\n",
    "        \"DNT\": \"1\",\n",
    "        \"Connection\": \"close\",\n",
    "        \"Upgrade-Insecure-Requests\": \"1\"\n",
    "    }\n",
    "\n",
    "    page = requests.get(URL, headers=headers)\n",
    "    soup1 = BeautifulSoup(page.content, \"html.parser\")\n",
    "    soup2 = BeautifulSoup(soup1.prettify(), \"html.parser\")\n",
    "\n",
    "    title = soup2.find(id='productTitle').get_text().strip()\n",
    "\n",
    "    # Try to extract price parts (some Amazon pages may vary in structure)\n",
    "    try:\n",
    "        price_symbol = soup2.find(class_='a-price-symbol').get_text(strip=True)\n",
    "        price_whole = soup2.find(class_='a-price-whole').get_text(strip=True)\n",
    "        price_fraction = soup2.find(class_='a-price-fraction').get_text(strip=True)\n",
    "        price = f'{price_symbol}{price_whole}.{price_fraction}'\n",
    "    except AttributeError:\n",
    "        price = \"N/A\"  # In case price isn't found\n",
    "\n",
    "    today = datetime.date.today()\n",
    "    header = ['Title', 'Price', 'Date']\n",
    "    data = [title, price, today]\n",
    "\n",
    "    with open('AmazonWebScraperDataset.csv', 'a+', newline='', encoding='UTF8') as f:\n",
    "        writer = csv.writer(f)\n",
    "        writer.writerow(data)\n",
    "\n",
    "# Call the function\n",
    "check_price()\n"
   ]
  },
  {
   "cell_type": "code",
   "execution_count": null,
   "id": "3f9fd311-530b-49ae-bda0-ccb3a73df543",
   "metadata": {},
   "outputs": [],
   "source": [
    "while(True):\n",
    "    check_price()\n",
    "    time.sleep(86400)"
   ]
  },
  {
   "cell_type": "code",
   "execution_count": null,
   "id": "9c9a45b6-42f8-4384-8b79-fb0079275601",
   "metadata": {},
   "outputs": [],
   "source": [
    "import pandas as pd\n",
    "\n",
    "df = pd.read_csv(r'C:\\Users\\Patrick.Ukutegbe\\AmazonWebScraperDataset.csv')\n",
    "\n",
    "print(df)"
   ]
  },
  {
   "cell_type": "code",
   "execution_count": 102,
   "id": "fe0f9fd3-627d-4cd9-bbba-009ea7dae253",
   "metadata": {},
   "outputs": [],
   "source": [
    "def send_mail():\n",
    "    server = smtplib.SMTP_SSL('smtp.gmail.com',465)\n",
    "    server.ehlo()\n",
    "    #server.starttls()\n",
    "    server.ehlo()\n",
    "    server.login('ellaukutegbe@gmail.com','xxxxxxxxxxxxxx')\n",
    "    \n",
    "    subject = \"The Shirt you want is below $15! Now is your chance to buy!\"\n",
    "    body = \"Ella, This is the moment we have been waiting for. Now is your chance to pick up the shirt of your dreams. Don't mess it up! Link here: https://www.amazon.com/Funny-Data-Systems-Business-Analyst/dp/B07FNW9FGJ/ref=sr_1_3?dchild=1&keywords=data+analyst+tshirt&qid=1626655184&sr=8-3\"\n",
    "   \n",
    "    msg = f\"Subject: {subject}\\n\\n{body}\"\n",
    "    \n",
    "    server.sendmail(\n",
    "        'ellaukutegbe@gmail.com',\n",
    "        msg\n",
    "     \n",
    "    )"
   ]
  },
  {
   "cell_type": "code",
   "execution_count": null,
   "id": "9cdf250c-fc7b-4ff2-9686-9872ead09762",
   "metadata": {},
   "outputs": [],
   "source": []
  }
 ],
 "metadata": {
  "kernelspec": {
   "display_name": "Python [conda env:base] *",
   "language": "python",
   "name": "conda-base-py"
  },
  "language_info": {
   "codemirror_mode": {
    "name": "ipython",
    "version": 3
   },
   "file_extension": ".py",
   "mimetype": "text/x-python",
   "name": "python",
   "nbconvert_exporter": "python",
   "pygments_lexer": "ipython3",
   "version": "3.12.7"
  }
 },
 "nbformat": 4,
 "nbformat_minor": 5
}
